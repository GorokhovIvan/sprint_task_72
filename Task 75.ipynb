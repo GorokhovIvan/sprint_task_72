{
 "cells": [
  {
   "cell_type": "code",
   "execution_count": 1,
   "metadata": {
    "collapsed": true
   },
   "outputs": [],
   "source": [
    "import pandas as pd\n",
    "import numpy as np\n",
    "import datetime\n",
    "import tweepy\n",
    "\n",
    "def get_api(cfg):\n",
    "    auth = tweepy.OAuthHandler(cfg['consumer_key'], cfg['consumer_secret'])\n",
    "    auth.set_access_token(cfg['access_token'], cfg['access_token_secret'])\n",
    "    return tweepy.API(auth)\n",
    "\n",
    "cfg = { \"consumer_key\"        : \"\",\n",
    "    \"consumer_secret\"     : \"\",\n",
    "    \"access_token\"        : \"-kpcqQiI6yPxIe1tRpuu9YnvAyhSja8l\",\n",
    "    \"access_token_secret\" : \"\" }\n",
    "api = get_api(cfg)"
   ]
  },
  {
   "cell_type": "code",
   "execution_count": 2,
   "metadata": {
    "collapsed": true
   },
   "outputs": [],
   "source": [
    "tmp = pd.read_json('media_founders_dump.json')"
   ]
  },
  {
   "cell_type": "code",
   "execution_count": 3,
   "metadata": {
    "collapsed": true
   },
   "outputs": [],
   "source": [
    "tmp = tmp[~tmp.inn.isnull()]\n",
    "tmp['inn'] = tmp['inn'].astype(int).astype(str)\n",
    "tmp.loc[tmp['inn'].str.len()==9,'inn'] = tmp.loc[tmp['inn'].str.len()==9,'inn'].apply( lambda x: x.zfill(10))\n",
    "tmp.loc[tmp['inn'].str.len()==11,'inn'] = tmp.loc[tmp['inn'].str.len()==11,'inn'].apply( lambda x: x.zfill(12))"
   ]
  },
  {
   "cell_type": "code",
   "execution_count": 4,
   "metadata": {},
   "outputs": [
    {
     "data": {
      "text/plain": [
       "(30952, 6)"
      ]
     },
     "execution_count": 4,
     "metadata": {},
     "output_type": "execute_result"
    }
   ],
   "source": [
    "tmp.shape"
   ]
  },
  {
   "cell_type": "markdown",
   "metadata": {},
   "source": [
    "## Suppliers"
   ]
  },
  {
   "cell_type": "code",
   "execution_count": 5,
   "metadata": {
    "collapsed": true
   },
   "outputs": [],
   "source": [
    "supp_df = pd.read_json('suppliers-20171201.json')"
   ]
  },
  {
   "cell_type": "code",
   "execution_count": 6,
   "metadata": {
    "collapsed": true
   },
   "outputs": [],
   "source": [
    "# supp_df = supp_df[~supp_df.inn.isnull()]\n",
    "supp_df['inn'] = supp_df['inn'].astype(str)\n",
    "supp_df.loc[supp_df['inn'].str.len()==9,'inn'] = supp_df.loc[supp_df['inn'].str.len()==9,'inn'].apply( lambda x: x.zfill(10))\n",
    "supp_df.loc[supp_df['inn'].str.len()==11,'inn'] = supp_df.loc[supp_df['inn'].str.len()==11,'inn'].apply( lambda x: x.zfill(12))"
   ]
  },
  {
   "cell_type": "code",
   "execution_count": 7,
   "metadata": {
    "collapsed": true
   },
   "outputs": [],
   "source": [
    "supp_df = supp_df[supp_df.inn.isin(tmp.inn)]"
   ]
  },
  {
   "cell_type": "code",
   "execution_count": 10,
   "metadata": {
    "collapsed": true
   },
   "outputs": [],
   "source": [
    "supp_df = supp_df[['inn','ogrn','kpp','organizationName','contracts223Sum','contracts223YearStats']]"
   ]
  },
  {
   "cell_type": "code",
   "execution_count": 11,
   "metadata": {},
   "outputs": [],
   "source": [
    "supp_df.loc[~supp_df['contracts223YearStats'].isnull(),'2014_contracts'] = \\\n",
    "supp_df.loc[~supp_df['contracts223YearStats'].isnull(),'contracts223YearStats'].apply(lambda x: x.get('2014',0))\n",
    "\n",
    "supp_df.loc[~supp_df['contracts223YearStats'].isnull(),'2015_contracts'] = \\\n",
    "supp_df.loc[~supp_df['contracts223YearStats'].isnull(),'contracts223YearStats'].apply(lambda x: x.get('2015',0))\n",
    "\n",
    "supp_df.loc[~supp_df['contracts223YearStats'].isnull(),'2016_contracts'] = \\\n",
    "supp_df.loc[~supp_df['contracts223YearStats'].isnull(),'contracts223YearStats'].apply(lambda x: x.get('2016',0))\n",
    "\n",
    "supp_df.loc[~supp_df['contracts223YearStats'].isnull(),'2017_contracts'] = \\\n",
    "supp_df.loc[~supp_df['contracts223YearStats'].isnull(),'contracts223YearStats'].apply(lambda x: x.get('2017',0))"
   ]
  },
  {
   "cell_type": "code",
   "execution_count": 68,
   "metadata": {
    "collapsed": true
   },
   "outputs": [],
   "source": [
    "supp_df = supp_df[~supp_df['contracts223YearStats'].isnull()]"
   ]
  },
  {
   "cell_type": "code",
   "execution_count": 12,
   "metadata": {
    "collapsed": true
   },
   "outputs": [],
   "source": [
    "def get_summ(dct):\n",
    "    if type(dct)==dict:\n",
    "        return dct.get('contractsSum')\n",
    "    else:\n",
    "        return 0"
   ]
  },
  {
   "cell_type": "code",
   "execution_count": 13,
   "metadata": {
    "collapsed": true
   },
   "outputs": [],
   "source": [
    "supp_df['2014_contracts'] = supp_df['2014_contracts'].apply(get_summ)\n",
    "supp_df['2015_contracts'] = supp_df['2015_contracts'].apply(get_summ)\n",
    "supp_df['2016_contracts'] = supp_df['2016_contracts'].apply(get_summ)\n",
    "supp_df['2017_contracts'] = supp_df['2017_contracts'].apply(get_summ)"
   ]
  },
  {
   "cell_type": "markdown",
   "metadata": {
    "collapsed": true
   },
   "source": [
    "## Check clearspending"
   ]
  },
  {
   "cell_type": "code",
   "execution_count": 125,
   "metadata": {},
   "outputs": [],
   "source": [
    "def check_contracts():\n",
    "    try:\n",
    "        dict_cont = pd.read_json(\"http://openapi.clearspending.ru/restapi/v3/contracts/search/?daterange=01.11.2017-19.12.2017\")['contracts']['data']\n",
    "        tmp = pd.DataFrame(dict_cont)\n",
    "        tmp.publishDate = pd.to_datetime(tmp.publishDate)\n",
    "        tmp = tmp[tmp.publishDate>=(datetime.datetime.now() - datetime.timedelta(hours=4))]\n",
    "        tmp = tmp[['contractUrl', 'currency', 'number', 'price', 'publishDate', 'suppliers', 'products'  ]]\n",
    "        tmp['in_owners'] = tmp['suppliers'].apply(lambda z: len(list(set([x.get('inn','') for x in z]) & set(supp_df.inn)))>0)\n",
    "        tmp = tmp[tmp.in_owners]\n",
    "        # отобрал собственников\n",
    "        tmp['okdp_codes'] = tmp['products'].apply(lambda z:[x.get('OKPD2').get('code').split('.')[0] for x in z])\n",
    "        tmp['smi_prod'] = tmp['okdp_codes'].apply(lambda z: len(list(set(z) & set(['58','59','60','61','62','63'])))>0)\n",
    "        tmp['names']= tmp['suppliers'].apply(lambda z:[x.get('organizationName', 'None') for x in z])\n",
    "        # пометил сми\n",
    "        tmp.apply(lambda x:send_tweet(x[['publishDate','number','price','names','smi_prod']]), axis=1)\n",
    "    except:\n",
    "        api.update_status(status='No actual contracts available at {}'.format(datetime.datetime.now()))\n",
    "        print('update error')\n",
    "        pass\n"
   ]
  },
  {
   "cell_type": "code",
   "execution_count": 121,
   "metadata": {},
   "outputs": [],
   "source": [
    "def send_tweet(df):\n",
    "    df.columns=['Дата публикации', 'Номер', 'Цена', 'Участник', 'СМИ ОКПД']\n",
    "    try:\n",
    "        status = api.update_status(status=str(df)[:280])\n",
    "    except:\n",
    "        print ('twitter error')\n",
    "    "
   ]
  },
  {
   "cell_type": "code",
   "execution_count": 126,
   "metadata": {},
   "outputs": [
    {
     "name": "stdout",
     "output_type": "stream",
     "text": [
      "update error\n"
     ]
    },
    {
     "ename": "KeyboardInterrupt",
     "evalue": "",
     "output_type": "error",
     "traceback": [
      "\u001b[0;31m---------------------------------------------------------------------------\u001b[0m",
      "\u001b[0;31mKeyboardInterrupt\u001b[0m                         Traceback (most recent call last)",
      "\u001b[0;32m<ipython-input-126-47c0b9dd565d>\u001b[0m in \u001b[0;36m<module>\u001b[0;34m()\u001b[0m\n\u001b[1;32m      3\u001b[0m     \u001b[0;32mfor\u001b[0m \u001b[0mi\u001b[0m \u001b[0;32min\u001b[0m \u001b[0mrange\u001b[0m\u001b[0;34m(\u001b[0m\u001b[0;36m0\u001b[0m\u001b[0;34m,\u001b[0m\u001b[0;36m100\u001b[0m\u001b[0;34m)\u001b[0m\u001b[0;34m:\u001b[0m\u001b[0;34m\u001b[0m\u001b[0m\n\u001b[1;32m      4\u001b[0m         \u001b[0mcheck_contracts\u001b[0m\u001b[0;34m(\u001b[0m\u001b[0;34m)\u001b[0m\u001b[0;34m\u001b[0m\u001b[0m\n\u001b[0;32m----> 5\u001b[0;31m         \u001b[0mtime\u001b[0m\u001b[0;34m.\u001b[0m\u001b[0msleep\u001b[0m\u001b[0;34m(\u001b[0m\u001b[0;36m14400\u001b[0m\u001b[0;34m)\u001b[0m\u001b[0;34m\u001b[0m\u001b[0m\n\u001b[0m\u001b[1;32m      6\u001b[0m         \u001b[0mprint\u001b[0m \u001b[0;34m(\u001b[0m\u001b[0;34m'run again'\u001b[0m\u001b[0;34m)\u001b[0m\u001b[0;34m\u001b[0m\u001b[0m\n",
      "\u001b[0;31mKeyboardInterrupt\u001b[0m: "
     ]
    }
   ],
   "source": [
    "import time\n",
    "if __name__ == \"__main__\":\n",
    "    for i in range(0,100):\n",
    "        check_contracts()\n",
    "        time.sleep(14400)\n",
    "        print ('run again')"
   ]
  },
  {
   "cell_type": "code",
   "execution_count": 101,
   "metadata": {},
   "outputs": [],
   "source": []
  },
  {
   "cell_type": "code",
   "execution_count": 106,
   "metadata": {
    "collapsed": true
   },
   "outputs": [],
   "source": []
  },
  {
   "cell_type": "code",
   "execution_count": null,
   "metadata": {
    "collapsed": true
   },
   "outputs": [],
   "source": []
  }
 ],
 "metadata": {
  "kernelspec": {
   "display_name": "Python 3",
   "language": "python",
   "name": "python3"
  },
  "language_info": {
   "codemirror_mode": {
    "name": "ipython",
    "version": 3
   },
   "file_extension": ".py",
   "mimetype": "text/x-python",
   "name": "python",
   "nbconvert_exporter": "python",
   "pygments_lexer": "ipython3",
   "version": "3.6.3"
  }
 },
 "nbformat": 4,
 "nbformat_minor": 2
}
