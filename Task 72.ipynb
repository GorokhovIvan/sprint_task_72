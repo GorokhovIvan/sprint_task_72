{
 "cells": [
  {
   "cell_type": "code",
   "execution_count": 1,
   "metadata": {
    "collapsed": true
   },
   "outputs": [],
   "source": [
    "import pandas as pd\n",
    "import numpy as np"
   ]
  },
  {
   "cell_type": "code",
   "execution_count": 2,
   "metadata": {
    "collapsed": true
   },
   "outputs": [],
   "source": [
    "tmp = pd.read_json('media_founders_dump.json')"
   ]
  },
  {
   "cell_type": "code",
   "execution_count": 3,
   "metadata": {
    "collapsed": true
   },
   "outputs": [],
   "source": [
    "tmp = tmp[~tmp.inn.isnull()]\n",
    "tmp['inn'] = tmp['inn'].astype(int).astype(str)\n",
    "tmp.loc[tmp['inn'].str.len()==9,'inn'] = tmp.loc[tmp['inn'].str.len()==9,'inn'].apply( lambda x: x.zfill(10))\n",
    "tmp.loc[tmp['inn'].str.len()==11,'inn'] = tmp.loc[tmp['inn'].str.len()==11,'inn'].apply( lambda x: x.zfill(12))"
   ]
  },
  {
   "cell_type": "code",
   "execution_count": 4,
   "metadata": {},
   "outputs": [
    {
     "data": {
      "text/plain": [
       "(30952, 6)"
      ]
     },
     "execution_count": 4,
     "metadata": {},
     "output_type": "execute_result"
    }
   ],
   "source": [
    "tmp.shape"
   ]
  },
  {
   "cell_type": "markdown",
   "metadata": {},
   "source": [
    "## Sybsidies"
   ]
  },
  {
   "cell_type": "code",
   "execution_count": 5,
   "metadata": {},
   "outputs": [],
   "source": [
    "subsidies = pd.read_json('founders_subsidies_dump.json')[['dateAgreem','otherRecevers','receiverINN','sumRUR']]"
   ]
  },
  {
   "cell_type": "code",
   "execution_count": 6,
   "metadata": {},
   "outputs": [],
   "source": [
    "subsidies = subsidies[~subsidies.receiverINN.isnull()]\n",
    "subsidies['receiverINN'] = subsidies['receiverINN'].astype(int).astype(str)\n",
    "subsidies.loc[subsidies['receiverINN'].str.len()==9,'receiverINN'] = subsidies.loc[subsidies['receiverINN'].str.len()==9,'receiverINN'].apply( lambda x: x.zfill(10))\n",
    "subsidies.loc[subsidies['receiverINN'].str.len()==11,'receiverINN'] = subsidies.loc[subsidies['receiverINN'].str.len()==11,'receiverINN'].apply( lambda x: x.zfill(12))"
   ]
  },
  {
   "cell_type": "code",
   "execution_count": 7,
   "metadata": {},
   "outputs": [],
   "source": [
    "subsidies = subsidies[(subsidies.dateAgreem>='2014-01-01')&(subsidies.dateAgreem<'2017-01-01')]"
   ]
  },
  {
   "cell_type": "code",
   "execution_count": 8,
   "metadata": {},
   "outputs": [],
   "source": [
    "subsidies['year'] = pd.to_datetime(subsidies.dateAgreem).dt.year"
   ]
  },
  {
   "cell_type": "code",
   "execution_count": 9,
   "metadata": {},
   "outputs": [],
   "source": [
    "subsidies = subsidies.groupby(['receiverINN','year'])['sumRUR'].sum().reset_index()"
   ]
  },
  {
   "cell_type": "code",
   "execution_count": 10,
   "metadata": {
    "collapsed": true
   },
   "outputs": [],
   "source": [
    "subsidies = subsidies.groupby(['receiverINN','year'])['sumRUR'].sum().unstack(level=1).fillna(0).reset_index()"
   ]
  },
  {
   "cell_type": "code",
   "execution_count": 11,
   "metadata": {
    "collapsed": true
   },
   "outputs": [],
   "source": [
    "tmp = pd.merge(tmp,subsidies,left_on='inn',right_on='receiverINN',how= 'left')\n",
    "tmp.drop(['receiverINN','ogrn','okved'],axis=1,inplace=True)"
   ]
  },
  {
   "cell_type": "code",
   "execution_count": 12,
   "metadata": {},
   "outputs": [],
   "source": [
    "tmp.rename(columns = {2014:'2014_sub',2015:'2015_sub',2016:'2016_sub'},inplace=True)"
   ]
  },
  {
   "cell_type": "markdown",
   "metadata": {},
   "source": [
    "## Grants"
   ]
  },
  {
   "cell_type": "code",
   "execution_count": 92,
   "metadata": {
    "scrolled": false
   },
   "outputs": [],
   "source": [
    "grants = pd.read_json('grants_dump.json')"
   ]
  },
  {
   "cell_type": "code",
   "execution_count": 95,
   "metadata": {},
   "outputs": [],
   "source": [
    "grants = grants[(grants.filingDate>='2014-01-01')&(grants.filingDate<'2017-01-01')]"
   ]
  },
  {
   "cell_type": "code",
   "execution_count": 115,
   "metadata": {
    "collapsed": true
   },
   "outputs": [],
   "source": [
    "grants['year'] = pd.to_datetime(grants.filingDate).dt.year"
   ]
  },
  {
   "cell_type": "code",
   "execution_count": 111,
   "metadata": {},
   "outputs": [],
   "source": [
    "tmp.loc[~tmp.ogrn.isnull(),'ogrn'] = tmp.loc[~tmp.ogrn.isnull(),'ogrn'].astype(int).astype(str)"
   ]
  },
  {
   "cell_type": "code",
   "execution_count": 122,
   "metadata": {},
   "outputs": [],
   "source": [
    "grants = grants[grants['OGRN'].isin(tmp['ogrn'])].groupby(['OGRN','year']).sum()['sumRUR'].unstack(level=1).fillna(0)"
   ]
  },
  {
   "cell_type": "code",
   "execution_count": 136,
   "metadata": {},
   "outputs": [],
   "source": [
    "tmp = pd.merge(tmp,grants,left_on = 'ogrn', right_index = True, how='left').fillna(0)\n",
    "del tmp['contracts223Sum']"
   ]
  },
  {
   "cell_type": "code",
   "execution_count": 138,
   "metadata": {
    "collapsed": true
   },
   "outputs": [],
   "source": [
    "tmp.rename(columns = {2014:'2014_grant',2015:'2015_grant',2016:'2016_grant'},inplace=True)"
   ]
  },
  {
   "cell_type": "markdown",
   "metadata": {},
   "source": [
    "## Suppliers"
   ]
  },
  {
   "cell_type": "code",
   "execution_count": 15,
   "metadata": {},
   "outputs": [],
   "source": [
    "supp_df = pd.read_json('suppliers-20171201.json')"
   ]
  },
  {
   "cell_type": "code",
   "execution_count": 23,
   "metadata": {},
   "outputs": [],
   "source": [
    "# supp_df = supp_df[~supp_df.inn.isnull()]\n",
    "supp_df['inn'] = supp_df['inn'].astype(str)\n",
    "supp_df.loc[supp_df['inn'].str.len()==9,'inn'] = supp_df.loc[supp_df['inn'].str.len()==9,'inn'].apply( lambda x: x.zfill(10))\n",
    "supp_df.loc[supp_df['inn'].str.len()==11,'inn'] = supp_df.loc[supp_df['inn'].str.len()==11,'inn'].apply( lambda x: x.zfill(12))"
   ]
  },
  {
   "cell_type": "code",
   "execution_count": 26,
   "metadata": {},
   "outputs": [],
   "source": [
    "supp_df = supp_df[supp_df.inn.isin(tmp.inn)]"
   ]
  },
  {
   "cell_type": "code",
   "execution_count": 28,
   "metadata": {},
   "outputs": [],
   "source": [
    "supp_df = supp_df[['inn','contracts223Sum','contracts223YearStats']]"
   ]
  },
  {
   "cell_type": "code",
   "execution_count": 65,
   "metadata": {},
   "outputs": [
    {
     "name": "stderr",
     "output_type": "stream",
     "text": [
      "/Users/slavik/anaconda3/lib/python3.6/site-packages/pandas/core/indexing.py:337: SettingWithCopyWarning: \n",
      "A value is trying to be set on a copy of a slice from a DataFrame.\n",
      "Try using .loc[row_indexer,col_indexer] = value instead\n",
      "\n",
      "See the caveats in the documentation: http://pandas.pydata.org/pandas-docs/stable/indexing.html#indexing-view-versus-copy\n",
      "  self.obj[key] = _infer_fill_value(value)\n",
      "/Users/slavik/anaconda3/lib/python3.6/site-packages/pandas/core/indexing.py:517: SettingWithCopyWarning: \n",
      "A value is trying to be set on a copy of a slice from a DataFrame.\n",
      "Try using .loc[row_indexer,col_indexer] = value instead\n",
      "\n",
      "See the caveats in the documentation: http://pandas.pydata.org/pandas-docs/stable/indexing.html#indexing-view-versus-copy\n",
      "  self.obj[item] = s\n"
     ]
    }
   ],
   "source": [
    "supp_df.loc[~supp_df['contracts223YearStats'].isnull(),'2014_contracts'] = \\\n",
    "supp_df.loc[~supp_df['contracts223YearStats'].isnull(),'contracts223YearStats'].apply(lambda x: x.get('2014',0))\n",
    "\n",
    "supp_df.loc[~supp_df['contracts223YearStats'].isnull(),'2015_contracts'] = \\\n",
    "supp_df.loc[~supp_df['contracts223YearStats'].isnull(),'contracts223YearStats'].apply(lambda x: x.get('2015',0))\n",
    "\n",
    "supp_df.loc[~supp_df['contracts223YearStats'].isnull(),'2016_contracts'] = \\\n",
    "supp_df.loc[~supp_df['contracts223YearStats'].isnull(),'contracts223YearStats'].apply(lambda x: x.get('2016',0))\n",
    "\n",
    "supp_df.loc[~supp_df['contracts223YearStats'].isnull(),'2017_contracts'] = \\\n",
    "supp_df.loc[~supp_df['contracts223YearStats'].isnull(),'contracts223YearStats'].apply(lambda x: x.get('2017',0))"
   ]
  },
  {
   "cell_type": "code",
   "execution_count": 68,
   "metadata": {},
   "outputs": [],
   "source": [
    "supp_df = supp_df[~supp_df['contracts223YearStats'].isnull()]"
   ]
  },
  {
   "cell_type": "code",
   "execution_count": 76,
   "metadata": {},
   "outputs": [],
   "source": [
    "def get_summ(dct):\n",
    "    if type(dct)==dict:\n",
    "        return dct.get('contractsSum')\n",
    "    else:\n",
    "        return 0"
   ]
  },
  {
   "cell_type": "code",
   "execution_count": 78,
   "metadata": {
    "collapsed": true
   },
   "outputs": [
    {
     "name": "stderr",
     "output_type": "stream",
     "text": [
      "/Users/slavik/anaconda3/lib/python3.6/site-packages/ipykernel_launcher.py:1: SettingWithCopyWarning: \n",
      "A value is trying to be set on a copy of a slice from a DataFrame.\n",
      "Try using .loc[row_indexer,col_indexer] = value instead\n",
      "\n",
      "See the caveats in the documentation: http://pandas.pydata.org/pandas-docs/stable/indexing.html#indexing-view-versus-copy\n",
      "  \"\"\"Entry point for launching an IPython kernel.\n",
      "/Users/slavik/anaconda3/lib/python3.6/site-packages/ipykernel_launcher.py:2: SettingWithCopyWarning: \n",
      "A value is trying to be set on a copy of a slice from a DataFrame.\n",
      "Try using .loc[row_indexer,col_indexer] = value instead\n",
      "\n",
      "See the caveats in the documentation: http://pandas.pydata.org/pandas-docs/stable/indexing.html#indexing-view-versus-copy\n",
      "  \n",
      "/Users/slavik/anaconda3/lib/python3.6/site-packages/ipykernel_launcher.py:3: SettingWithCopyWarning: \n",
      "A value is trying to be set on a copy of a slice from a DataFrame.\n",
      "Try using .loc[row_indexer,col_indexer] = value instead\n",
      "\n",
      "See the caveats in the documentation: http://pandas.pydata.org/pandas-docs/stable/indexing.html#indexing-view-versus-copy\n",
      "  This is separate from the ipykernel package so we can avoid doing imports until\n",
      "/Users/slavik/anaconda3/lib/python3.6/site-packages/ipykernel_launcher.py:4: SettingWithCopyWarning: \n",
      "A value is trying to be set on a copy of a slice from a DataFrame.\n",
      "Try using .loc[row_indexer,col_indexer] = value instead\n",
      "\n",
      "See the caveats in the documentation: http://pandas.pydata.org/pandas-docs/stable/indexing.html#indexing-view-versus-copy\n",
      "  after removing the cwd from sys.path.\n"
     ]
    }
   ],
   "source": [
    "supp_df['2014_contracts'] = supp_df['2014_contracts'].apply(get_summ)\n",
    "supp_df['2015_contracts'] = supp_df['2015_contracts'].apply(get_summ)\n",
    "supp_df['2016_contracts'] = supp_df['2016_contracts'].apply(get_summ)\n",
    "supp_df['2017_contracts'] = supp_df['2017_contracts'].apply(get_summ)"
   ]
  },
  {
   "cell_type": "code",
   "execution_count": 86,
   "metadata": {},
   "outputs": [],
   "source": [
    "tmp = pd.merge(tmp,supp_df.groupby('inn').sum(),left_on='inn',right_index=True, how='left').fillna(0)"
   ]
  },
  {
   "cell_type": "markdown",
   "metadata": {},
   "source": [
    "## Total"
   ]
  },
  {
   "cell_type": "code",
   "execution_count": 150,
   "metadata": {
    "collapsed": true
   },
   "outputs": [],
   "source": [
    "del tmp['ogrn']"
   ]
  },
  {
   "cell_type": "code",
   "execution_count": 151,
   "metadata": {},
   "outputs": [],
   "source": [
    "tmp['total_cash'] = tmp.iloc[:,4:].sum(axis=1)"
   ]
  },
  {
   "cell_type": "code",
   "execution_count": 153,
   "metadata": {},
   "outputs": [],
   "source": [
    "result = tmp.sort_values('total_cash',ascending=False).head(1000)"
   ]
  },
  {
   "cell_type": "code",
   "execution_count": 158,
   "metadata": {},
   "outputs": [],
   "source": [
    "del result['media']"
   ]
  },
  {
   "cell_type": "code",
   "execution_count": 159,
   "metadata": {
    "collapsed": true
   },
   "outputs": [],
   "source": [
    "result.to_csv('sprint_74_result.csv', index = False)"
   ]
  },
  {
   "cell_type": "code",
   "execution_count": 173,
   "metadata": {},
   "outputs": [],
   "source": [
    "def unpivoting(df, col):\n",
    "    df['year']=col.split('_')[0]\n",
    "    df['key']=col.split('_')[1]\n",
    "    df.rename(columns={col:'value'},inplace=True)\n",
    "    return df[['name','year','key','value']]"
   ]
  },
  {
   "cell_type": "code",
   "execution_count": 167,
   "metadata": {},
   "outputs": [
    {
     "data": {
      "text/plain": [
       "Index(['egrulName', 'inn', 'name', '2014_sub', '2015_sub', '2016_sub',\n",
       "       '2014_contracts', '2015_contracts', '2016_contracts', '2017_contracts',\n",
       "       '2014_grant', '2015_grant', '2016_grant', 'total_cash'],\n",
       "      dtype='object')"
      ]
     },
     "execution_count": 167,
     "metadata": {},
     "output_type": "execute_result"
    }
   ],
   "source": [
    "result.rename()"
   ]
  },
  {
   "cell_type": "code",
   "execution_count": 174,
   "metadata": {},
   "outputs": [],
   "source": [
    "lst=[]\n",
    "for col in ['2014_sub', '2015_sub', '2016_sub',\n",
    "       '2014_contracts', '2015_contracts', '2016_contracts', '2017_contracts',\n",
    "       '2014_grant', '2015_grant', '2016_grant']:\n",
    "    lst.append(unpivoting(result.copy(),col))"
   ]
  },
  {
   "cell_type": "code",
   "execution_count": 176,
   "metadata": {},
   "outputs": [],
   "source": [
    "pd.concat(lst).to_csv('unpivoted_result.csv',index=False)"
   ]
  },
  {
   "cell_type": "code",
   "execution_count": 182,
   "metadata": {},
   "outputs": [
    {
     "data": {
      "text/html": [
       "<div>\n",
       "<style>\n",
       "    .dataframe thead tr:only-child th {\n",
       "        text-align: right;\n",
       "    }\n",
       "\n",
       "    .dataframe thead th {\n",
       "        text-align: left;\n",
       "    }\n",
       "\n",
       "    .dataframe tbody tr th {\n",
       "        vertical-align: top;\n",
       "    }\n",
       "</style>\n",
       "<table border=\"1\" class=\"dataframe\">\n",
       "  <thead>\n",
       "    <tr style=\"text-align: right;\">\n",
       "      <th></th>\n",
       "      <th>egrulName</th>\n",
       "      <th>inn</th>\n",
       "      <th>name</th>\n",
       "      <th>2014_sub</th>\n",
       "      <th>2015_sub</th>\n",
       "      <th>2016_sub</th>\n",
       "      <th>2014_contracts</th>\n",
       "      <th>2015_contracts</th>\n",
       "      <th>2016_contracts</th>\n",
       "      <th>2017_contracts</th>\n",
       "      <th>2014_grant</th>\n",
       "      <th>2015_grant</th>\n",
       "      <th>2016_grant</th>\n",
       "      <th>total_cash</th>\n",
       "    </tr>\n",
       "  </thead>\n",
       "  <tbody>\n",
       "    <tr>\n",
       "      <th>30036</th>\n",
       "      <td>НЕГОСУДАРСТВЕННОЕ ОБРАЗОВАТЕЛЬНОЕ УЧРЕЖДЕНИЕ В...</td>\n",
       "      <td>7816002340</td>\n",
       "      <td>Санкт-Петербургский Гуманитарный университет п...</td>\n",
       "      <td>203741824.0</td>\n",
       "      <td>213887100.0</td>\n",
       "      <td>355666300.0</td>\n",
       "      <td>0.0</td>\n",
       "      <td>0.0</td>\n",
       "      <td>0.0</td>\n",
       "      <td>0.0</td>\n",
       "      <td>3500000.0</td>\n",
       "      <td>8036935.0</td>\n",
       "      <td>4000000.0</td>\n",
       "      <td>788832159.0</td>\n",
       "    </tr>\n",
       "    <tr>\n",
       "      <th>650</th>\n",
       "      <td>ОБЩЕРОССИЙСКАЯ ОБЩЕСТВЕННАЯ ОРГАНИЗАЦИЯ \"СОЮЗ ...</td>\n",
       "      <td>7707035201</td>\n",
       "      <td>Общероссийская общественная организация \"Союз ...</td>\n",
       "      <td>213816428.0</td>\n",
       "      <td>274171394.0</td>\n",
       "      <td>253302480.0</td>\n",
       "      <td>0.0</td>\n",
       "      <td>1410683.4</td>\n",
       "      <td>1400000.0</td>\n",
       "      <td>609000.0</td>\n",
       "      <td>0.0</td>\n",
       "      <td>0.0</td>\n",
       "      <td>20000000.0</td>\n",
       "      <td>764709985.4</td>\n",
       "    </tr>\n",
       "  </tbody>\n",
       "</table>\n",
       "</div>"
      ],
      "text/plain": [
       "                                               egrulName         inn  \\\n",
       "30036  НЕГОСУДАРСТВЕННОЕ ОБРАЗОВАТЕЛЬНОЕ УЧРЕЖДЕНИЕ В...  7816002340   \n",
       "650    ОБЩЕРОССИЙСКАЯ ОБЩЕСТВЕННАЯ ОРГАНИЗАЦИЯ \"СОЮЗ ...  7707035201   \n",
       "\n",
       "                                                    name     2014_sub  \\\n",
       "30036  Санкт-Петербургский Гуманитарный университет п...  203741824.0   \n",
       "650    Общероссийская общественная организация \"Союз ...  213816428.0   \n",
       "\n",
       "          2015_sub     2016_sub  2014_contracts  2015_contracts  \\\n",
       "30036  213887100.0  355666300.0             0.0             0.0   \n",
       "650    274171394.0  253302480.0             0.0       1410683.4   \n",
       "\n",
       "       2016_contracts  2017_contracts  2014_grant  2015_grant  2016_grant  \\\n",
       "30036             0.0             0.0   3500000.0   8036935.0   4000000.0   \n",
       "650         1400000.0        609000.0         0.0         0.0  20000000.0   \n",
       "\n",
       "        total_cash  \n",
       "30036  788832159.0  \n",
       "650    764709985.4  "
      ]
     },
     "execution_count": 182,
     "metadata": {},
     "output_type": "execute_result"
    }
   ],
   "source": [
    "result[result['2016_grant']>0]"
   ]
  },
  {
   "cell_type": "code",
   "execution_count": null,
   "metadata": {
    "collapsed": true
   },
   "outputs": [],
   "source": []
  }
 ],
 "metadata": {
  "kernelspec": {
   "display_name": "Python 3",
   "language": "python",
   "name": "python3"
  },
  "language_info": {
   "codemirror_mode": {
    "name": "ipython",
    "version": 3
   },
   "file_extension": ".py",
   "mimetype": "text/x-python",
   "name": "python",
   "nbconvert_exporter": "python",
   "pygments_lexer": "ipython3",
   "version": "3.6.3"
  }
 },
 "nbformat": 4,
 "nbformat_minor": 2
}
